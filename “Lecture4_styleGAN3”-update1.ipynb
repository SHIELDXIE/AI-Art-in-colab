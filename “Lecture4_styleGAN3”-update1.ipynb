{
  "nbformat": 4,
  "nbformat_minor": 0,
  "metadata": {
    "colab": {
      "name": "“Lecture4 styleGAN3”的副本",
      "private_outputs": true,
      "provenance": [],
      "machine_shape": "hm",
      "collapsed_sections": [],
      "toc_visible": true,
      "include_colab_link": true
    },
    "kernelspec": {
      "name": "python3",
      "display_name": "Python 3"
    },
    "language_info": {
      "name": "python"
    },
    "accelerator": "GPU"
  },
  "cells": [
    {
      "cell_type": "markdown",
      "metadata": {
        "id": "view-in-github",
        "colab_type": "text"
      },
      "source": [
        "<a href=\"https://colab.research.google.com/github/SHIELDXIE/stylegan2-train-colab/blob/main/%E2%80%9CLecture4_styleGAN3%E2%80%9D-update1.ipynb\" target=\"_parent\"><img src=\"https://colab.research.google.com/assets/colab-badge.svg\" alt=\"Open In Colab\"/></a>"
      ]
    },
    {
      "cell_type": "markdown",
      "metadata": {
        "id": "TV_ylWt7YjoY"
      },
      "source": [
        "# StyleGAN3\n"
      ]
    },
    {
      "cell_type": "markdown",
      "metadata": {
        "id": "Xs28QcYEwPM_"
      },
      "source": [
        "## 0.1 环境搭建"
      ]
    },
    {
      "cell_type": "code",
      "source": [
        "from google.colab import drive\n",
        "drive.mount('/content/drive')"
      ],
      "metadata": {
        "id": "JxGMd9KlOCPs"
      },
      "execution_count": null,
      "outputs": []
    },
    {
      "cell_type": "code",
      "execution_count": null,
      "metadata": {
        "id": "8bdgviQQO8WJ"
      },
      "outputs": [],
      "source": [
        "!nvidia-smi -L"
      ]
    },
    {
      "cell_type": "code",
      "execution_count": null,
      "metadata": {
        "id": "KZ04kX_gPBIz"
      },
      "outputs": [],
      "source": [
        "import os\n",
        "if os.path.isdir(\"/content/drive/MyDrive/AI/stylegan3\"):\n",
        "    %cd \"/content/drive/MyDrive/AI/stylegan3/\"\n",
        "elif os.path.isdir(\"/content/drive/\"):\n",
        "    #install script\n",
        "    %cd \"/content/drive/MyDrive/\"\n",
        "    !mkdir AI\n",
        "    %cd AI\n",
        "    !git clone https://github.com/NVlabs/stylegan3\n",
        "    %cd stylegan3\n",
        "    !mkdir downloads\n",
        "    !mkdir datasets\n",
        "    !mkdir pretrained\n",
        "    !mkdir result\n",
        "    #!gdown --id 1-5xZkD8ajXw1DdopTkH_rAoCsD72LhKU -O /content/drive/MyDrive/colab-sg2-ada-pytorch/stylegan2-ada-pytorch/pretrained/wikiart.pkl\n",
        "else:\n",
        "    !git clone https://github.com/NVlabs/stylegan3\n",
        "    %cd stylegan3\n",
        "    !mkdir downloads\n",
        "    !mkdir datasets\n",
        "    !mkdir pretrained\n",
        "    !mkdir result\n",
        "    %cd pretrained\n",
        "    # !gdown --id 1-5xZkD8ajXw1DdopTkH_rAoCsD72LhKU\n",
        "    # %cd ../\n",
        "\n",
        "!pip install Ninja opensimplex"
      ]
    },
    {
      "cell_type": "markdown",
      "source": [
        "## 1.1 数据集准备\n",
        "\n",
        "图片的批量处理建议使用软件XnViewMP。\n",
        "\n",
        "图片最终大小必须为**256x256px，512x512px或者1024x1024px**的，并且压缩成一个**.zip**文件。\n",
        "\n",
        "在电脑压缩完成之后上传到网页版本的GoogleDrive，具体路径其实可以自拟。因为数据集其实是通用的，所以可以直接**手动**在GoogleDrive根目录或者AI文件夹下新建一个datasets文件夹，例如**AI/datasets**"
      ],
      "metadata": {
        "id": "qvYmKMUEO6-f"
      }
    },
    {
      "cell_type": "markdown",
      "metadata": {
        "id": "EkruyuspXigs"
      },
      "source": [
        "##1.2 训练模型\n",
        "\n",
        "styleGAN3的训练参数配置主要分为两大类，分别是StyleGAN3-T (translation equiv.), StyleGAN3-R (translation and rotation equiv.)。\n",
        "\n",
        "\n",
        "- 因为训练styleGAN3需要花费更长的时间，所以强烈建议使用预训练模型（一开始推荐用官方的）进行**迁移学习**。但是与训练模型与你计划训练模型的参数配置一样，比如你打算用StyleGAN3-T配置，你应该选择带文件名带 `t` 的训练模型。\n",
        "- 如果你抽到的GPU为 `A100` ，下面其中一项参数设置可以为 `--batch-gpu=8`。其它GPU则选择 `--batch-gpu=4`。\n",
        "- **mirror** = 1允许左右对称，**mirror** = 0取消左右对称。\n",
        "- **mirrory** = 1允许上下对称，**mirrory** = 0取消上下对称。\n",
        "- Nvidia官方预训练模型（styleGAN3）：https://catalog.ngc.nvidia.com/orgs/nvidia/teams/research/models/stylegan3/files\n",
        "- 各官方预训练模型对应的图片：https://nvlabs-fi-cdn.nvidia.com/stylegan3/images/"
      ]
    },
    {
      "cell_type": "code",
      "execution_count": null,
      "metadata": {
        "id": "TODwnBpnZYAO"
      },
      "outputs": [],
      "source": [
        "#!python train.py --help"
      ]
    },
    {
      "cell_type": "code",
      "execution_count": null,
      "metadata": {
        "id": "3sbpJOHnXn6X"
      },
      "outputs": [],
      "source": [
        "!python train.py --outdir=./result/liquid_art-1024-t --cfg=stylegan3-t --data=/content/drive/MyDrive/datasets/liquid_art-1024-pytorch.zip \\\n",
        "--gpus=1 --batch=32 --batch-gpu=4 --gamma=10.0 --mirror=1 --kimg=5000 --snap=1 --metrics=None \\\n",
        "--resume=\"https://api.ngc.nvidia.com/v2/models/nvidia/research/stylegan3/versions/1/files/stylegan3-t-ffhqu-1024x1024.pkl\""
      ]
    },
    {
      "cell_type": "markdown",
      "metadata": {
        "id": "_YMK6ADrN1_O"
      },
      "source": [
        "##2.1 图片生成"
      ]
    },
    {
      "cell_type": "code",
      "execution_count": null,
      "metadata": {
        "id": "5T_5FWyVOd5R"
      },
      "outputs": [],
      "source": [
        "#!python gen_images.py --help"
      ]
    },
    {
      "cell_type": "code",
      "execution_count": null,
      "metadata": {
        "id": "P1_9acWpQ-Sw"
      },
      "outputs": [],
      "source": [
        "!python gen_images.py --outdir=out --trunc=1 --seeds=2 \\\n",
        "    --network=https://api.ngc.nvidia.com/v2/models/nvidia/research/stylegan3/versions/1/files/stylegan3-r-afhqv2-512x512.pkl"
      ]
    },
    {
      "cell_type": "markdown",
      "metadata": {
        "id": "1go7uPzwN_O6"
      },
      "source": [
        "##2.2 视频生成\n"
      ]
    },
    {
      "cell_type": "code",
      "execution_count": null,
      "metadata": {
        "id": "IfK24HUUOcgc"
      },
      "outputs": [],
      "source": [
        "#!python gen_video.py --help"
      ]
    },
    {
      "cell_type": "code",
      "execution_count": null,
      "metadata": {
        "id": "hfDwRHVFOBJU"
      },
      "outputs": [],
      "source": [
        "!python gen_video.py --output=/content/lerp-t.mp4 --trunc=1 --seeds=100-124 --grid=1x1 --w-frames=72 \\\n",
        "    --network=/content/drive/MyDrive/pretrained_model/t.pkl"
      ]
    },
    {
      "cell_type": "code",
      "execution_count": null,
      "metadata": {
        "id": "IHVJkWOwfMhE"
      },
      "outputs": [],
      "source": [
        ""
      ]
    }
  ]
}